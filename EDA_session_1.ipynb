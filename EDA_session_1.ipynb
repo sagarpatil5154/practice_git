{
 "cells": [
  {
   "cell_type": "code",
   "execution_count": null,
   "id": "547aa3f7-1adb-4fc9-a840-16aaaaaab3d9",
   "metadata": {},
   "outputs": [],
   "source": [
    "=============EDA==============\n",
    "1) pandas : Data frame applications\n",
    "\n",
    "2) numpy : Numerical python All math applications \n",
    "\n",
    "3) matplotlib : used for plotting\n",
    "\n",
    "4) seaborn : used for plot\n",
    "\n",
    "5) plotly : use for plot\n",
    "\n",
    "6) Bokhe  : use for plot\n",
    "\n",
    "===========Machine learning==========\n",
    "7) sickit-learn: sklearn\n",
    "\n",
    "===========Deep learning============\n",
    "\n",
    "8) Tensorflow : Google\n",
    "\n",
    "9) Keras : Google\n",
    "\n",
    "10) pytorch : facebook\n",
    "\n",
    "==========NLP================\n",
    "\n",
    "11) NLTK : Natural language tool kit\n",
    "\n",
    "12) Scipy \n",
    "\n",
    "==========BERT===============\n",
    "\n",
    "13) Transformers : Hugging face (Google)\n",
    "\n",
    "==========Google models========\n",
    "\n",
    "14) specific google packages\n",
    "\n",
    "========== Azure ML==========\n",
    "15) Azure package\n",
    "\n",
    "=========GenAI=============\n",
    "\n",
    "16) Gemini : Google\n",
    "\n",
    "17) ChatGpt : OpenAI\n",
    "\n",
    "========LangChain===========\n",
    "\n",
    "18) LangChain packages"
   ]
  },
  {
   "cell_type": "markdown",
   "id": "0f1d804a-ac5d-475d-9749-1584aaf29946",
   "metadata": {},
   "source": [
    "**Create a data frame using list**"
   ]
  },
  {
   "cell_type": "markdown",
   "id": "b1c73390-cd08-48f0-8218-44b2c0eccfd9",
   "metadata": {},
   "source": [
    "$Step-1$"
   ]
  },
  {
   "cell_type": "code",
   "execution_count": 3,
   "id": "dbe5f5f1-d5fa-4e9a-9cd1-6339cb289887",
   "metadata": {},
   "outputs": [
    {
     "data": {
      "text/html": [
       "<div>\n",
       "<style scoped>\n",
       "    .dataframe tbody tr th:only-of-type {\n",
       "        vertical-align: middle;\n",
       "    }\n",
       "\n",
       "    .dataframe tbody tr th {\n",
       "        vertical-align: top;\n",
       "    }\n",
       "\n",
       "    .dataframe thead th {\n",
       "        text-align: right;\n",
       "    }\n",
       "</style>\n",
       "<table border=\"1\" class=\"dataframe\">\n",
       "  <thead>\n",
       "    <tr style=\"text-align: right;\">\n",
       "      <th></th>\n",
       "    </tr>\n",
       "  </thead>\n",
       "  <tbody>\n",
       "  </tbody>\n",
       "</table>\n",
       "</div>"
      ],
      "text/plain": [
       "Empty DataFrame\n",
       "Columns: []\n",
       "Index: []"
      ]
     },
     "execution_count": 3,
     "metadata": {},
     "output_type": "execute_result"
    }
   ],
   "source": [
    "import pandas as pd\n",
    "names=['ayus','avinash','akash']\n",
    "pd.DataFrame()  # empty data frame will create no rows and no column"
   ]
  },
  {
   "cell_type": "markdown",
   "id": "47840be8-5575-4f8f-a280-8efb13b07f9b",
   "metadata": {},
   "source": [
    "$Step-2$"
   ]
  },
  {
   "cell_type": "code",
   "execution_count": 8,
   "id": "de179ee8-bdd7-494b-aeaf-7dc717ee39bb",
   "metadata": {},
   "outputs": [
    {
     "data": {
      "text/html": [
       "<div>\n",
       "<style scoped>\n",
       "    .dataframe tbody tr th:only-of-type {\n",
       "        vertical-align: middle;\n",
       "    }\n",
       "\n",
       "    .dataframe tbody tr th {\n",
       "        vertical-align: top;\n",
       "    }\n",
       "\n",
       "    .dataframe thead th {\n",
       "        text-align: right;\n",
       "    }\n",
       "</style>\n",
       "<table border=\"1\" class=\"dataframe\">\n",
       "  <thead>\n",
       "    <tr style=\"text-align: right;\">\n",
       "      <th></th>\n",
       "      <th>0</th>\n",
       "    </tr>\n",
       "  </thead>\n",
       "  <tbody>\n",
       "    <tr>\n",
       "      <th>0</th>\n",
       "      <td>ayus</td>\n",
       "    </tr>\n",
       "    <tr>\n",
       "      <th>1</th>\n",
       "      <td>avinash</td>\n",
       "    </tr>\n",
       "    <tr>\n",
       "      <th>2</th>\n",
       "      <td>akash</td>\n",
       "    </tr>\n",
       "  </tbody>\n",
       "</table>\n",
       "</div>"
      ],
      "text/plain": [
       "         0\n",
       "0     ayus\n",
       "1  avinash\n",
       "2    akash"
      ]
     },
     "execution_count": 8,
     "metadata": {},
     "output_type": "execute_result"
    }
   ],
   "source": [
    "names=['ayus','avinash','akash']\n",
    "pd.DataFrame(names)"
   ]
  },
  {
   "cell_type": "code",
   "execution_count": 10,
   "id": "d8ba5504-a7bc-45fb-9a85-59d26dc40780",
   "metadata": {},
   "outputs": [
    {
     "data": {
      "text/html": [
       "<div>\n",
       "<style scoped>\n",
       "    .dataframe tbody tr th:only-of-type {\n",
       "        vertical-align: middle;\n",
       "    }\n",
       "\n",
       "    .dataframe tbody tr th {\n",
       "        vertical-align: top;\n",
       "    }\n",
       "\n",
       "    .dataframe thead th {\n",
       "        text-align: right;\n",
       "    }\n",
       "</style>\n",
       "<table border=\"1\" class=\"dataframe\">\n",
       "  <thead>\n",
       "    <tr style=\"text-align: right;\">\n",
       "      <th></th>\n",
       "      <th>0</th>\n",
       "    </tr>\n",
       "  </thead>\n",
       "  <tbody>\n",
       "    <tr>\n",
       "      <th>20</th>\n",
       "      <td>ayus</td>\n",
       "    </tr>\n",
       "    <tr>\n",
       "      <th>25</th>\n",
       "      <td>avinash</td>\n",
       "    </tr>\n",
       "    <tr>\n",
       "      <th>30</th>\n",
       "      <td>akash</td>\n",
       "    </tr>\n",
       "  </tbody>\n",
       "</table>\n",
       "</div>"
      ],
      "text/plain": [
       "          0\n",
       "20     ayus\n",
       "25  avinash\n",
       "30    akash"
      ]
     },
     "execution_count": 10,
     "metadata": {},
     "output_type": "execute_result"
    }
   ],
   "source": [
    "names=['ayus','avinash','akash']\n",
    "age=[20,25,30]\n",
    "pd.DataFrame(names,age)\n",
    "# what is the first positional argument: data\n",
    "# second positional argument: index"
   ]
  },
  {
   "cell_type": "code",
   "execution_count": 11,
   "id": "641034ee-f23a-4c59-8e6d-ec7760b11ca2",
   "metadata": {},
   "outputs": [
    {
     "data": {
      "text/html": [
       "<div>\n",
       "<style scoped>\n",
       "    .dataframe tbody tr th:only-of-type {\n",
       "        vertical-align: middle;\n",
       "    }\n",
       "\n",
       "    .dataframe tbody tr th {\n",
       "        vertical-align: top;\n",
       "    }\n",
       "\n",
       "    .dataframe thead th {\n",
       "        text-align: right;\n",
       "    }\n",
       "</style>\n",
       "<table border=\"1\" class=\"dataframe\">\n",
       "  <thead>\n",
       "    <tr style=\"text-align: right;\">\n",
       "      <th></th>\n",
       "      <th>0</th>\n",
       "      <th>1</th>\n",
       "    </tr>\n",
       "  </thead>\n",
       "  <tbody>\n",
       "    <tr>\n",
       "      <th>0</th>\n",
       "      <td>ayus</td>\n",
       "      <td>20</td>\n",
       "    </tr>\n",
       "    <tr>\n",
       "      <th>1</th>\n",
       "      <td>avinash</td>\n",
       "      <td>25</td>\n",
       "    </tr>\n",
       "    <tr>\n",
       "      <th>2</th>\n",
       "      <td>akash</td>\n",
       "      <td>30</td>\n",
       "    </tr>\n",
       "  </tbody>\n",
       "</table>\n",
       "</div>"
      ],
      "text/plain": [
       "         0   1\n",
       "0     ayus  20\n",
       "1  avinash  25\n",
       "2    akash  30"
      ]
     },
     "execution_count": 11,
     "metadata": {},
     "output_type": "execute_result"
    }
   ],
   "source": [
    "names=['ayus','avinash','akash']\n",
    "age=[20,25,30]\n",
    "pd.DataFrame(zip(names,age))"
   ]
  },
  {
   "cell_type": "code",
   "execution_count": 13,
   "id": "65184ce2-d081-49a6-900d-eb08a23bb6e1",
   "metadata": {},
   "outputs": [
    {
     "data": {
      "text/html": [
       "<div>\n",
       "<style scoped>\n",
       "    .dataframe tbody tr th:only-of-type {\n",
       "        vertical-align: middle;\n",
       "    }\n",
       "\n",
       "    .dataframe tbody tr th {\n",
       "        vertical-align: top;\n",
       "    }\n",
       "\n",
       "    .dataframe thead th {\n",
       "        text-align: right;\n",
       "    }\n",
       "</style>\n",
       "<table border=\"1\" class=\"dataframe\">\n",
       "  <thead>\n",
       "    <tr style=\"text-align: right;\">\n",
       "      <th></th>\n",
       "      <th>0</th>\n",
       "      <th>1</th>\n",
       "      <th>2</th>\n",
       "    </tr>\n",
       "  </thead>\n",
       "  <tbody>\n",
       "    <tr>\n",
       "      <th>0</th>\n",
       "      <td>ayus</td>\n",
       "      <td>20</td>\n",
       "      <td>hyd</td>\n",
       "    </tr>\n",
       "    <tr>\n",
       "      <th>1</th>\n",
       "      <td>avinash</td>\n",
       "      <td>25</td>\n",
       "      <td>blr</td>\n",
       "    </tr>\n",
       "    <tr>\n",
       "      <th>2</th>\n",
       "      <td>akash</td>\n",
       "      <td>30</td>\n",
       "      <td>chennai</td>\n",
       "    </tr>\n",
       "  </tbody>\n",
       "</table>\n",
       "</div>"
      ],
      "text/plain": [
       "         0   1        2\n",
       "0     ayus  20      hyd\n",
       "1  avinash  25      blr\n",
       "2    akash  30  chennai"
      ]
     },
     "execution_count": 13,
     "metadata": {},
     "output_type": "execute_result"
    }
   ],
   "source": [
    "names=['ayus','avinash','akash']\n",
    "age=[20,25,30]\n",
    "city=['hyd','blr','chennai']\n",
    "pd.DataFrame(zip(names,age,city))"
   ]
  },
  {
   "cell_type": "markdown",
   "id": "3666462e-32d2-49f0-8249-5eb10d89743b",
   "metadata": {},
   "source": [
    "$Step-3-columns$"
   ]
  },
  {
   "cell_type": "code",
   "execution_count": 15,
   "id": "2330dd1c-0fe5-4d45-923b-bf9000639141",
   "metadata": {},
   "outputs": [
    {
     "data": {
      "text/html": [
       "<div>\n",
       "<style scoped>\n",
       "    .dataframe tbody tr th:only-of-type {\n",
       "        vertical-align: middle;\n",
       "    }\n",
       "\n",
       "    .dataframe tbody tr th {\n",
       "        vertical-align: top;\n",
       "    }\n",
       "\n",
       "    .dataframe thead th {\n",
       "        text-align: right;\n",
       "    }\n",
       "</style>\n",
       "<table border=\"1\" class=\"dataframe\">\n",
       "  <thead>\n",
       "    <tr style=\"text-align: right;\">\n",
       "      <th></th>\n",
       "      <th>names</th>\n",
       "      <th>age</th>\n",
       "      <th>city</th>\n",
       "    </tr>\n",
       "  </thead>\n",
       "  <tbody>\n",
       "    <tr>\n",
       "      <th>0</th>\n",
       "      <td>ayus</td>\n",
       "      <td>20</td>\n",
       "      <td>hyd</td>\n",
       "    </tr>\n",
       "    <tr>\n",
       "      <th>1</th>\n",
       "      <td>avinash</td>\n",
       "      <td>25</td>\n",
       "      <td>blr</td>\n",
       "    </tr>\n",
       "    <tr>\n",
       "      <th>2</th>\n",
       "      <td>akash</td>\n",
       "      <td>30</td>\n",
       "      <td>chennai</td>\n",
       "    </tr>\n",
       "  </tbody>\n",
       "</table>\n",
       "</div>"
      ],
      "text/plain": [
       "     names  age     city\n",
       "0     ayus   20      hyd\n",
       "1  avinash   25      blr\n",
       "2    akash   30  chennai"
      ]
     },
     "execution_count": 15,
     "metadata": {},
     "output_type": "execute_result"
    }
   ],
   "source": [
    "names=['ayus','avinash','akash']\n",
    "age=[20,25,30]\n",
    "city=['hyd','blr','chennai']\n",
    "pd.DataFrame(zip(names,age,city),columns=['names','age','city'])"
   ]
  },
  {
   "cell_type": "code",
   "execution_count": 16,
   "id": "34eb265e-d191-4226-a24a-d48374ddef4a",
   "metadata": {},
   "outputs": [
    {
     "data": {
      "text/html": [
       "<div>\n",
       "<style scoped>\n",
       "    .dataframe tbody tr th:only-of-type {\n",
       "        vertical-align: middle;\n",
       "    }\n",
       "\n",
       "    .dataframe tbody tr th {\n",
       "        vertical-align: top;\n",
       "    }\n",
       "\n",
       "    .dataframe thead th {\n",
       "        text-align: right;\n",
       "    }\n",
       "</style>\n",
       "<table border=\"1\" class=\"dataframe\">\n",
       "  <thead>\n",
       "    <tr style=\"text-align: right;\">\n",
       "      <th></th>\n",
       "      <th>names</th>\n",
       "      <th>age</th>\n",
       "      <th>city</th>\n",
       "      <th>MobNo</th>\n",
       "    </tr>\n",
       "  </thead>\n",
       "  <tbody>\n",
       "    <tr>\n",
       "      <th>0</th>\n",
       "      <td>ayus</td>\n",
       "      <td>20</td>\n",
       "      <td>hyd</td>\n",
       "      <td>12***</td>\n",
       "    </tr>\n",
       "    <tr>\n",
       "      <th>1</th>\n",
       "      <td>avinash</td>\n",
       "      <td>25</td>\n",
       "      <td>blr</td>\n",
       "      <td>23***</td>\n",
       "    </tr>\n",
       "    <tr>\n",
       "      <th>2</th>\n",
       "      <td>akash</td>\n",
       "      <td>30</td>\n",
       "      <td>chennai</td>\n",
       "      <td>34***</td>\n",
       "    </tr>\n",
       "  </tbody>\n",
       "</table>\n",
       "</div>"
      ],
      "text/plain": [
       "     names  age     city  MobNo\n",
       "0     ayus   20      hyd  12***\n",
       "1  avinash   25      blr  23***\n",
       "2    akash   30  chennai  34***"
      ]
     },
     "execution_count": 16,
     "metadata": {},
     "output_type": "execute_result"
    }
   ],
   "source": [
    "names=['ayus','avinash','akash']\n",
    "age=[20,25,30]\n",
    "city=['hyd','blr','chennai']\n",
    "MobNo=['12***','23***','34***']\n",
    "pd.DataFrame(zip(names,age,city,MobNo),columns=['names','age','city','MobNo'])"
   ]
  },
  {
   "cell_type": "code",
   "execution_count": 29,
   "id": "23142e8e-0074-4dce-a0c4-1b3cb74a1651",
   "metadata": {},
   "outputs": [],
   "source": [
    "names=['ayus','avinash','akash']\n",
    "age=[20,25,30]\n",
    "city=['hyd','blr','chennai']\n",
    "data=zip(names,age,city)\n",
    "cols=['names','age','city']\n",
    "df=pd.DataFrame(data,columns=cols)"
   ]
  },
  {
   "cell_type": "markdown",
   "id": "11299814-4bb2-4bc4-9817-f335b08969f0",
   "metadata": {},
   "source": [
    "$step-4$"
   ]
  },
  {
   "cell_type": "markdown",
   "id": "4d63161d-04cb-4e97-be8e-0873076b613c",
   "metadata": {},
   "source": [
    "**Add new column**"
   ]
  },
  {
   "cell_type": "code",
   "execution_count": null,
   "id": "c10697a6-7d44-4ba8-b9b7-e1d9d8def6c1",
   "metadata": {},
   "outputs": [],
   "source": [
    "- If you want to add new column\n",
    "\n",
    "- First you need to check the numbert of rows in already existed data\n",
    "\n",
    "- for example in above the dataframe has 3 rows\n",
    "\n",
    "- you need to create a new list with 3 rows\n",
    "\n",
    "- that list "
   ]
  },
  {
   "cell_type": "code",
   "execution_count": 30,
   "id": "0504f4e1-0f40-48e1-acc1-05247d09da3b",
   "metadata": {},
   "outputs": [
    {
     "data": {
      "text/html": [
       "<div>\n",
       "<style scoped>\n",
       "    .dataframe tbody tr th:only-of-type {\n",
       "        vertical-align: middle;\n",
       "    }\n",
       "\n",
       "    .dataframe tbody tr th {\n",
       "        vertical-align: top;\n",
       "    }\n",
       "\n",
       "    .dataframe thead th {\n",
       "        text-align: right;\n",
       "    }\n",
       "</style>\n",
       "<table border=\"1\" class=\"dataframe\">\n",
       "  <thead>\n",
       "    <tr style=\"text-align: right;\">\n",
       "      <th></th>\n",
       "      <th>names</th>\n",
       "      <th>age</th>\n",
       "      <th>city</th>\n",
       "      <th>JOB</th>\n",
       "    </tr>\n",
       "  </thead>\n",
       "  <tbody>\n",
       "    <tr>\n",
       "      <th>0</th>\n",
       "      <td>ayus</td>\n",
       "      <td>20</td>\n",
       "      <td>hyd</td>\n",
       "      <td>DS</td>\n",
       "    </tr>\n",
       "    <tr>\n",
       "      <th>1</th>\n",
       "      <td>avinash</td>\n",
       "      <td>25</td>\n",
       "      <td>blr</td>\n",
       "      <td>DE</td>\n",
       "    </tr>\n",
       "    <tr>\n",
       "      <th>2</th>\n",
       "      <td>akash</td>\n",
       "      <td>30</td>\n",
       "      <td>chennai</td>\n",
       "      <td>CS</td>\n",
       "    </tr>\n",
       "  </tbody>\n",
       "</table>\n",
       "</div>"
      ],
      "text/plain": [
       "     names  age     city JOB\n",
       "0     ayus   20      hyd  DS\n",
       "1  avinash   25      blr  DE\n",
       "2    akash   30  chennai  CS"
      ]
     },
     "execution_count": 30,
     "metadata": {},
     "output_type": "execute_result"
    }
   ],
   "source": [
    "job=['DS','DE','CS']\n",
    "df['JOB']=job\n",
    "df"
   ]
  },
  {
   "cell_type": "code",
   "execution_count": 35,
   "id": "3cd01ca8-945b-4568-be3e-f4c06e59931a",
   "metadata": {},
   "outputs": [
    {
     "data": {
      "text/html": [
       "<div>\n",
       "<style scoped>\n",
       "    .dataframe tbody tr th:only-of-type {\n",
       "        vertical-align: middle;\n",
       "    }\n",
       "\n",
       "    .dataframe tbody tr th {\n",
       "        vertical-align: top;\n",
       "    }\n",
       "\n",
       "    .dataframe thead th {\n",
       "        text-align: right;\n",
       "    }\n",
       "</style>\n",
       "<table border=\"1\" class=\"dataframe\">\n",
       "  <thead>\n",
       "    <tr style=\"text-align: right;\">\n",
       "      <th></th>\n",
       "      <th>names</th>\n",
       "      <th>age</th>\n",
       "      <th>city</th>\n",
       "      <th>JOB</th>\n",
       "      <th>Age</th>\n",
       "    </tr>\n",
       "  </thead>\n",
       "  <tbody>\n",
       "    <tr>\n",
       "      <th>0</th>\n",
       "      <td>ayus</td>\n",
       "      <td>35</td>\n",
       "      <td>hyd</td>\n",
       "      <td>DS</td>\n",
       "      <td>50</td>\n",
       "    </tr>\n",
       "    <tr>\n",
       "      <th>1</th>\n",
       "      <td>avinash</td>\n",
       "      <td>40</td>\n",
       "      <td>blr</td>\n",
       "      <td>DE</td>\n",
       "      <td>60</td>\n",
       "    </tr>\n",
       "    <tr>\n",
       "      <th>2</th>\n",
       "      <td>akash</td>\n",
       "      <td>45</td>\n",
       "      <td>chennai</td>\n",
       "      <td>CS</td>\n",
       "      <td>70</td>\n",
       "    </tr>\n",
       "  </tbody>\n",
       "</table>\n",
       "</div>"
      ],
      "text/plain": [
       "     names  age     city JOB  Age\n",
       "0     ayus   35      hyd  DS   50\n",
       "1  avinash   40      blr  DE   60\n",
       "2    akash   45  chennai  CS   70"
      ]
     },
     "execution_count": 35,
     "metadata": {},
     "output_type": "execute_result"
    }
   ],
   "source": [
    "df['Age']=[50,60,70]\n",
    "df\n",
    "\n",
    "# create new column update new column both are same way"
   ]
  },
  {
   "cell_type": "markdown",
   "id": "922de801-ef7a-4cca-998a-4bf05e346203",
   "metadata": {},
   "source": [
    "$step-6$"
   ]
  },
  {
   "cell_type": "markdown",
   "id": "1acb8670-06ed-4506-91ae-8674c17021f2",
   "metadata": {},
   "source": [
    "**Change index**"
   ]
  },
  {
   "cell_type": "code",
   "execution_count": 36,
   "id": "662afa82-c319-4110-915e-3ef868adf0a6",
   "metadata": {},
   "outputs": [
    {
     "data": {
      "text/html": [
       "<div>\n",
       "<style scoped>\n",
       "    .dataframe tbody tr th:only-of-type {\n",
       "        vertical-align: middle;\n",
       "    }\n",
       "\n",
       "    .dataframe tbody tr th {\n",
       "        vertical-align: top;\n",
       "    }\n",
       "\n",
       "    .dataframe thead th {\n",
       "        text-align: right;\n",
       "    }\n",
       "</style>\n",
       "<table border=\"1\" class=\"dataframe\">\n",
       "  <thead>\n",
       "    <tr style=\"text-align: right;\">\n",
       "      <th></th>\n",
       "      <th>names</th>\n",
       "      <th>age</th>\n",
       "      <th>city</th>\n",
       "    </tr>\n",
       "  </thead>\n",
       "  <tbody>\n",
       "    <tr>\n",
       "      <th>A</th>\n",
       "      <td>ayus</td>\n",
       "      <td>20</td>\n",
       "      <td>hyd</td>\n",
       "    </tr>\n",
       "    <tr>\n",
       "      <th>B</th>\n",
       "      <td>avinash</td>\n",
       "      <td>25</td>\n",
       "      <td>blr</td>\n",
       "    </tr>\n",
       "    <tr>\n",
       "      <th>C</th>\n",
       "      <td>akash</td>\n",
       "      <td>30</td>\n",
       "      <td>chennai</td>\n",
       "    </tr>\n",
       "  </tbody>\n",
       "</table>\n",
       "</div>"
      ],
      "text/plain": [
       "     names  age     city\n",
       "A     ayus   20      hyd\n",
       "B  avinash   25      blr\n",
       "C    akash   30  chennai"
      ]
     },
     "execution_count": 36,
     "metadata": {},
     "output_type": "execute_result"
    }
   ],
   "source": [
    "names=['ayus','avinash','akash']\n",
    "age=[20,25,30]\n",
    "city=['hyd','blr','chennai']\n",
    "data=zip(names,age,city)\n",
    "cols=['names','age','city']\n",
    "idx=['A','B','C']\n",
    "df=pd.DataFrame(data,index=idx,columns=cols)\n",
    "df"
   ]
  },
  {
   "cell_type": "code",
   "execution_count": 37,
   "id": "f4d565c6-a9d4-4226-851e-18c5b2e0339a",
   "metadata": {},
   "outputs": [
    {
     "data": {
      "text/html": [
       "<div>\n",
       "<style scoped>\n",
       "    .dataframe tbody tr th:only-of-type {\n",
       "        vertical-align: middle;\n",
       "    }\n",
       "\n",
       "    .dataframe tbody tr th {\n",
       "        vertical-align: top;\n",
       "    }\n",
       "\n",
       "    .dataframe thead th {\n",
       "        text-align: right;\n",
       "    }\n",
       "</style>\n",
       "<table border=\"1\" class=\"dataframe\">\n",
       "  <thead>\n",
       "    <tr style=\"text-align: right;\">\n",
       "      <th></th>\n",
       "      <th>names</th>\n",
       "      <th>age</th>\n",
       "      <th>city</th>\n",
       "    </tr>\n",
       "  </thead>\n",
       "  <tbody>\n",
       "    <tr>\n",
       "      <th>A</th>\n",
       "      <td>ayus</td>\n",
       "      <td>20</td>\n",
       "      <td>hyd</td>\n",
       "    </tr>\n",
       "    <tr>\n",
       "      <th>B</th>\n",
       "      <td>avinash</td>\n",
       "      <td>25</td>\n",
       "      <td>blr</td>\n",
       "    </tr>\n",
       "    <tr>\n",
       "      <th>C</th>\n",
       "      <td>akash</td>\n",
       "      <td>30</td>\n",
       "      <td>chennai</td>\n",
       "    </tr>\n",
       "    <tr>\n",
       "      <th>D</th>\n",
       "      <td>Anvi</td>\n",
       "      <td>35</td>\n",
       "      <td>Mumbai</td>\n",
       "    </tr>\n",
       "  </tbody>\n",
       "</table>\n",
       "</div>"
      ],
      "text/plain": [
       "     names  age     city\n",
       "A     ayus   20      hyd\n",
       "B  avinash   25      blr\n",
       "C    akash   30  chennai\n",
       "D     Anvi   35   Mumbai"
      ]
     },
     "execution_count": 37,
     "metadata": {},
     "output_type": "execute_result"
    }
   ],
   "source": [
    "names=['ayus','avinash','akash','Anvi']\n",
    "age=[20,25,30,35]\n",
    "city=['hyd','blr','chennai','Mumbai']\n",
    "data=zip(names,age,city)\n",
    "cols=['names','age','city']\n",
    "idx=['A','B','C','D']\n",
    "df=pd.DataFrame(data,index=idx,columns=cols)\n",
    "df"
   ]
  },
  {
   "cell_type": "markdown",
   "id": "c8972fba-a67e-4d55-94f5-5dc0cc5b2863",
   "metadata": {},
   "source": [
    "**Note**\n",
    "\n",
    "- Number of list equal to Number of columns\n",
    "\n",
    "- Number of values inside list equals to  **Number of rows**\n",
    "\n",
    "- When you create the data all the list will be in same length"
   ]
  },
  {
   "cell_type": "markdown",
   "id": "ec2a90ca-3b33-42e0-9bd8-1d492b88a623",
   "metadata": {},
   "source": [
    "$Step-7$\n",
    "\n",
    "**shape**\n",
    "\n",
    "- Number of rows\n",
    "\n",
    "- Number of columns"
   ]
  },
  {
   "cell_type": "code",
   "execution_count": 38,
   "id": "333b7252-6126-485f-8f7d-b761b9b941f5",
   "metadata": {},
   "outputs": [
    {
     "name": "stdout",
     "output_type": "stream",
     "text": [
      "The number of rows are: 4\n",
      "The number of columns are: 3\n"
     ]
    }
   ],
   "source": [
    "df.shape\n",
    "\n",
    "# Matrix format\n",
    "\n",
    "# 4 rows and 3 columns\n",
    "\n",
    "print('The number of rows are:',df.shape[0])\n",
    "print('The number of columns are:',df.shape[1])"
   ]
  },
  {
   "cell_type": "markdown",
   "id": "5b11a6f1-f027-4744-a581-4566ab5720ca",
   "metadata": {},
   "source": [
    "$Step-8$\n",
    "\n",
    "**Drop the column**\n",
    "\n",
    "- In order to drop column we required 3 arguments\n",
    "\n",
    "- Column name\n",
    "\n",
    "    - The column name we need to mention\n",
    "\n",
    "- axis\n",
    "\n",
    "    - axis=0 **represent rows**\n",
    "\n",
    "    - axis=1 **represent columns**\n",
    "\n",
    "- inplace\n",
    "\n",
    "    - we drop column means we are modifying the data frame\n",
    "\n",
    "    - sothis modification we want to save in same variable or different variable\n",
    "\n",
    "    - If you want to keep in the same variable the **inplace=True**"
   ]
  },
  {
   "cell_type": "code",
   "execution_count": 39,
   "id": "52c906ea-a9d7-4893-8a58-e589fd23dd61",
   "metadata": {},
   "outputs": [
    {
     "data": {
      "text/html": [
       "<div>\n",
       "<style scoped>\n",
       "    .dataframe tbody tr th:only-of-type {\n",
       "        vertical-align: middle;\n",
       "    }\n",
       "\n",
       "    .dataframe tbody tr th {\n",
       "        vertical-align: top;\n",
       "    }\n",
       "\n",
       "    .dataframe thead th {\n",
       "        text-align: right;\n",
       "    }\n",
       "</style>\n",
       "<table border=\"1\" class=\"dataframe\">\n",
       "  <thead>\n",
       "    <tr style=\"text-align: right;\">\n",
       "      <th></th>\n",
       "      <th>names</th>\n",
       "      <th>age</th>\n",
       "      <th>city</th>\n",
       "    </tr>\n",
       "  </thead>\n",
       "  <tbody>\n",
       "    <tr>\n",
       "      <th>A</th>\n",
       "      <td>ayus</td>\n",
       "      <td>20</td>\n",
       "      <td>hyd</td>\n",
       "    </tr>\n",
       "    <tr>\n",
       "      <th>B</th>\n",
       "      <td>avinash</td>\n",
       "      <td>25</td>\n",
       "      <td>blr</td>\n",
       "    </tr>\n",
       "    <tr>\n",
       "      <th>C</th>\n",
       "      <td>akash</td>\n",
       "      <td>30</td>\n",
       "      <td>chennai</td>\n",
       "    </tr>\n",
       "    <tr>\n",
       "      <th>D</th>\n",
       "      <td>Anvi</td>\n",
       "      <td>35</td>\n",
       "      <td>Mumbai</td>\n",
       "    </tr>\n",
       "  </tbody>\n",
       "</table>\n",
       "</div>"
      ],
      "text/plain": [
       "     names  age     city\n",
       "A     ayus   20      hyd\n",
       "B  avinash   25      blr\n",
       "C    akash   30  chennai\n",
       "D     Anvi   35   Mumbai"
      ]
     },
     "execution_count": 39,
     "metadata": {},
     "output_type": "execute_result"
    }
   ],
   "source": [
    "df"
   ]
  },
  {
   "cell_type": "code",
   "execution_count": 40,
   "id": "2a0952fb-c1c1-4553-993c-c96a91832a9b",
   "metadata": {},
   "outputs": [],
   "source": [
    "df.drop('city',\n",
    "        axis=1,\n",
    "        inplace=True)"
   ]
  },
  {
   "cell_type": "code",
   "execution_count": 41,
   "id": "4f73739c-80b5-46da-8129-7d8b40820d16",
   "metadata": {},
   "outputs": [
    {
     "data": {
      "text/html": [
       "<div>\n",
       "<style scoped>\n",
       "    .dataframe tbody tr th:only-of-type {\n",
       "        vertical-align: middle;\n",
       "    }\n",
       "\n",
       "    .dataframe tbody tr th {\n",
       "        vertical-align: top;\n",
       "    }\n",
       "\n",
       "    .dataframe thead th {\n",
       "        text-align: right;\n",
       "    }\n",
       "</style>\n",
       "<table border=\"1\" class=\"dataframe\">\n",
       "  <thead>\n",
       "    <tr style=\"text-align: right;\">\n",
       "      <th></th>\n",
       "      <th>names</th>\n",
       "      <th>age</th>\n",
       "    </tr>\n",
       "  </thead>\n",
       "  <tbody>\n",
       "    <tr>\n",
       "      <th>A</th>\n",
       "      <td>ayus</td>\n",
       "      <td>20</td>\n",
       "    </tr>\n",
       "    <tr>\n",
       "      <th>B</th>\n",
       "      <td>avinash</td>\n",
       "      <td>25</td>\n",
       "    </tr>\n",
       "    <tr>\n",
       "      <th>C</th>\n",
       "      <td>akash</td>\n",
       "      <td>30</td>\n",
       "    </tr>\n",
       "    <tr>\n",
       "      <th>D</th>\n",
       "      <td>Anvi</td>\n",
       "      <td>35</td>\n",
       "    </tr>\n",
       "  </tbody>\n",
       "</table>\n",
       "</div>"
      ],
      "text/plain": [
       "     names  age\n",
       "A     ayus   20\n",
       "B  avinash   25\n",
       "C    akash   30\n",
       "D     Anvi   35"
      ]
     },
     "execution_count": 41,
     "metadata": {},
     "output_type": "execute_result"
    }
   ],
   "source": [
    "df"
   ]
  },
  {
   "cell_type": "code",
   "execution_count": 47,
   "id": "ca2c8584-cd33-43fa-8d43-ae0352a962f1",
   "metadata": {},
   "outputs": [],
   "source": [
    "df1=df.drop('age',\n",
    "       axis=1)"
   ]
  },
  {
   "cell_type": "code",
   "execution_count": 48,
   "id": "61282a69-8abb-4905-9683-57185705d095",
   "metadata": {},
   "outputs": [
    {
     "data": {
      "text/html": [
       "<div>\n",
       "<style scoped>\n",
       "    .dataframe tbody tr th:only-of-type {\n",
       "        vertical-align: middle;\n",
       "    }\n",
       "\n",
       "    .dataframe tbody tr th {\n",
       "        vertical-align: top;\n",
       "    }\n",
       "\n",
       "    .dataframe thead th {\n",
       "        text-align: right;\n",
       "    }\n",
       "</style>\n",
       "<table border=\"1\" class=\"dataframe\">\n",
       "  <thead>\n",
       "    <tr style=\"text-align: right;\">\n",
       "      <th></th>\n",
       "      <th>names</th>\n",
       "      <th>age</th>\n",
       "    </tr>\n",
       "  </thead>\n",
       "  <tbody>\n",
       "    <tr>\n",
       "      <th>A</th>\n",
       "      <td>ayus</td>\n",
       "      <td>20</td>\n",
       "    </tr>\n",
       "    <tr>\n",
       "      <th>B</th>\n",
       "      <td>avinash</td>\n",
       "      <td>25</td>\n",
       "    </tr>\n",
       "    <tr>\n",
       "      <th>C</th>\n",
       "      <td>akash</td>\n",
       "      <td>30</td>\n",
       "    </tr>\n",
       "    <tr>\n",
       "      <th>D</th>\n",
       "      <td>Anvi</td>\n",
       "      <td>35</td>\n",
       "    </tr>\n",
       "  </tbody>\n",
       "</table>\n",
       "</div>"
      ],
      "text/plain": [
       "     names  age\n",
       "A     ayus   20\n",
       "B  avinash   25\n",
       "C    akash   30\n",
       "D     Anvi   35"
      ]
     },
     "execution_count": 48,
     "metadata": {},
     "output_type": "execute_result"
    }
   ],
   "source": [
    "df"
   ]
  },
  {
   "cell_type": "code",
   "execution_count": 49,
   "id": "d4eca4ee-9142-42d6-9764-ef9aff32bf18",
   "metadata": {},
   "outputs": [
    {
     "data": {
      "text/html": [
       "<div>\n",
       "<style scoped>\n",
       "    .dataframe tbody tr th:only-of-type {\n",
       "        vertical-align: middle;\n",
       "    }\n",
       "\n",
       "    .dataframe tbody tr th {\n",
       "        vertical-align: top;\n",
       "    }\n",
       "\n",
       "    .dataframe thead th {\n",
       "        text-align: right;\n",
       "    }\n",
       "</style>\n",
       "<table border=\"1\" class=\"dataframe\">\n",
       "  <thead>\n",
       "    <tr style=\"text-align: right;\">\n",
       "      <th></th>\n",
       "      <th>names</th>\n",
       "    </tr>\n",
       "  </thead>\n",
       "  <tbody>\n",
       "    <tr>\n",
       "      <th>A</th>\n",
       "      <td>ayus</td>\n",
       "    </tr>\n",
       "    <tr>\n",
       "      <th>B</th>\n",
       "      <td>avinash</td>\n",
       "    </tr>\n",
       "    <tr>\n",
       "      <th>C</th>\n",
       "      <td>akash</td>\n",
       "    </tr>\n",
       "    <tr>\n",
       "      <th>D</th>\n",
       "      <td>Anvi</td>\n",
       "    </tr>\n",
       "  </tbody>\n",
       "</table>\n",
       "</div>"
      ],
      "text/plain": [
       "     names\n",
       "A     ayus\n",
       "B  avinash\n",
       "C    akash\n",
       "D     Anvi"
      ]
     },
     "execution_count": 49,
     "metadata": {},
     "output_type": "execute_result"
    }
   ],
   "source": [
    "df1"
   ]
  },
  {
   "cell_type": "code",
   "execution_count": 58,
   "id": "a7d2fbf2-c0be-4db7-b101-f94d30b620f5",
   "metadata": {},
   "outputs": [
    {
     "data": {
      "text/html": [
       "<div>\n",
       "<style scoped>\n",
       "    .dataframe tbody tr th:only-of-type {\n",
       "        vertical-align: middle;\n",
       "    }\n",
       "\n",
       "    .dataframe tbody tr th {\n",
       "        vertical-align: top;\n",
       "    }\n",
       "\n",
       "    .dataframe thead th {\n",
       "        text-align: right;\n",
       "    }\n",
       "</style>\n",
       "<table border=\"1\" class=\"dataframe\">\n",
       "  <thead>\n",
       "    <tr style=\"text-align: right;\">\n",
       "      <th></th>\n",
       "      <th>names</th>\n",
       "      <th>age</th>\n",
       "      <th>city</th>\n",
       "    </tr>\n",
       "  </thead>\n",
       "  <tbody>\n",
       "    <tr>\n",
       "      <th>A</th>\n",
       "      <td>ayus</td>\n",
       "      <td>20</td>\n",
       "      <td>hyd</td>\n",
       "    </tr>\n",
       "    <tr>\n",
       "      <th>B</th>\n",
       "      <td>avinash</td>\n",
       "      <td>25</td>\n",
       "      <td>blr</td>\n",
       "    </tr>\n",
       "    <tr>\n",
       "      <th>C</th>\n",
       "      <td>akash</td>\n",
       "      <td>30</td>\n",
       "      <td>chennai</td>\n",
       "    </tr>\n",
       "    <tr>\n",
       "      <th>D</th>\n",
       "      <td>Anvi</td>\n",
       "      <td>35</td>\n",
       "      <td>Mumbai</td>\n",
       "    </tr>\n",
       "  </tbody>\n",
       "</table>\n",
       "</div>"
      ],
      "text/plain": [
       "     names  age     city\n",
       "A     ayus   20      hyd\n",
       "B  avinash   25      blr\n",
       "C    akash   30  chennai\n",
       "D     Anvi   35   Mumbai"
      ]
     },
     "execution_count": 58,
     "metadata": {},
     "output_type": "execute_result"
    }
   ],
   "source": [
    "names=['ayus','avinash','akash','Anvi']\n",
    "age=[20,25,30,35]\n",
    "city=['hyd','blr','chennai','Mumbai']\n",
    "data=zip(names,age,city)\n",
    "cols=['names','age','city']\n",
    "idx=['A','B','C','D']\n",
    "df=pd.DataFrame(data,index=idx,columns=cols)\n",
    "df"
   ]
  },
  {
   "cell_type": "code",
   "execution_count": 59,
   "id": "64a7583f-8089-44e4-a236-cf15aeb33708",
   "metadata": {},
   "outputs": [
    {
     "data": {
      "text/html": [
       "<div>\n",
       "<style scoped>\n",
       "    .dataframe tbody tr th:only-of-type {\n",
       "        vertical-align: middle;\n",
       "    }\n",
       "\n",
       "    .dataframe tbody tr th {\n",
       "        vertical-align: top;\n",
       "    }\n",
       "\n",
       "    .dataframe thead th {\n",
       "        text-align: right;\n",
       "    }\n",
       "</style>\n",
       "<table border=\"1\" class=\"dataframe\">\n",
       "  <thead>\n",
       "    <tr style=\"text-align: right;\">\n",
       "      <th></th>\n",
       "      <th>names</th>\n",
       "      <th>city</th>\n",
       "    </tr>\n",
       "  </thead>\n",
       "  <tbody>\n",
       "    <tr>\n",
       "      <th>A</th>\n",
       "      <td>ayus</td>\n",
       "      <td>hyd</td>\n",
       "    </tr>\n",
       "    <tr>\n",
       "      <th>B</th>\n",
       "      <td>avinash</td>\n",
       "      <td>blr</td>\n",
       "    </tr>\n",
       "    <tr>\n",
       "      <th>C</th>\n",
       "      <td>akash</td>\n",
       "      <td>chennai</td>\n",
       "    </tr>\n",
       "    <tr>\n",
       "      <th>D</th>\n",
       "      <td>Anvi</td>\n",
       "      <td>Mumbai</td>\n",
       "    </tr>\n",
       "  </tbody>\n",
       "</table>\n",
       "</div>"
      ],
      "text/plain": [
       "     names     city\n",
       "A     ayus      hyd\n",
       "B  avinash      blr\n",
       "C    akash  chennai\n",
       "D     Anvi   Mumbai"
      ]
     },
     "execution_count": 59,
     "metadata": {},
     "output_type": "execute_result"
    }
   ],
   "source": [
    "df.drop('age',axis=1,inplace=True)\n",
    "df"
   ]
  },
  {
   "cell_type": "markdown",
   "id": "d357d697-b9f8-4698-8636-e99d8c9ffe7d",
   "metadata": {},
   "source": [
    "$Step-9$\n",
    "\n",
    "**Multiple columns**"
   ]
  },
  {
   "cell_type": "code",
   "execution_count": 64,
   "id": "e1c6d79a-376f-4324-adde-76a2ddf49b34",
   "metadata": {},
   "outputs": [
    {
     "data": {
      "text/html": [
       "<div>\n",
       "<style scoped>\n",
       "    .dataframe tbody tr th:only-of-type {\n",
       "        vertical-align: middle;\n",
       "    }\n",
       "\n",
       "    .dataframe tbody tr th {\n",
       "        vertical-align: top;\n",
       "    }\n",
       "\n",
       "    .dataframe thead th {\n",
       "        text-align: right;\n",
       "    }\n",
       "</style>\n",
       "<table border=\"1\" class=\"dataframe\">\n",
       "  <thead>\n",
       "    <tr style=\"text-align: right;\">\n",
       "      <th></th>\n",
       "      <th>names</th>\n",
       "      <th>age</th>\n",
       "      <th>city</th>\n",
       "    </tr>\n",
       "  </thead>\n",
       "  <tbody>\n",
       "    <tr>\n",
       "      <th>A</th>\n",
       "      <td>ayus</td>\n",
       "      <td>20</td>\n",
       "      <td>hyd</td>\n",
       "    </tr>\n",
       "    <tr>\n",
       "      <th>B</th>\n",
       "      <td>avinash</td>\n",
       "      <td>25</td>\n",
       "      <td>blr</td>\n",
       "    </tr>\n",
       "    <tr>\n",
       "      <th>C</th>\n",
       "      <td>akash</td>\n",
       "      <td>30</td>\n",
       "      <td>chennai</td>\n",
       "    </tr>\n",
       "    <tr>\n",
       "      <th>D</th>\n",
       "      <td>Anvi</td>\n",
       "      <td>35</td>\n",
       "      <td>Mumbai</td>\n",
       "    </tr>\n",
       "  </tbody>\n",
       "</table>\n",
       "</div>"
      ],
      "text/plain": [
       "     names  age     city\n",
       "A     ayus   20      hyd\n",
       "B  avinash   25      blr\n",
       "C    akash   30  chennai\n",
       "D     Anvi   35   Mumbai"
      ]
     },
     "execution_count": 64,
     "metadata": {},
     "output_type": "execute_result"
    }
   ],
   "source": [
    "names=['ayus','avinash','akash','Anvi']\n",
    "age=[20,25,30,35]\n",
    "city=['hyd','blr','chennai','Mumbai']\n",
    "data=zip(names,age,city)\n",
    "cols=['names','age','city']\n",
    "idx=['A','B','C','D']\n",
    "df=pd.DataFrame(data,index=idx,columns=cols)\n",
    "df"
   ]
  },
  {
   "cell_type": "code",
   "execution_count": 65,
   "id": "c0869ba7-05bb-4704-9dae-d8ab0c75c28e",
   "metadata": {},
   "outputs": [
    {
     "data": {
      "text/html": [
       "<div>\n",
       "<style scoped>\n",
       "    .dataframe tbody tr th:only-of-type {\n",
       "        vertical-align: middle;\n",
       "    }\n",
       "\n",
       "    .dataframe tbody tr th {\n",
       "        vertical-align: top;\n",
       "    }\n",
       "\n",
       "    .dataframe thead th {\n",
       "        text-align: right;\n",
       "    }\n",
       "</style>\n",
       "<table border=\"1\" class=\"dataframe\">\n",
       "  <thead>\n",
       "    <tr style=\"text-align: right;\">\n",
       "      <th></th>\n",
       "      <th>names</th>\n",
       "    </tr>\n",
       "  </thead>\n",
       "  <tbody>\n",
       "    <tr>\n",
       "      <th>A</th>\n",
       "      <td>ayus</td>\n",
       "    </tr>\n",
       "    <tr>\n",
       "      <th>B</th>\n",
       "      <td>avinash</td>\n",
       "    </tr>\n",
       "    <tr>\n",
       "      <th>C</th>\n",
       "      <td>akash</td>\n",
       "    </tr>\n",
       "    <tr>\n",
       "      <th>D</th>\n",
       "      <td>Anvi</td>\n",
       "    </tr>\n",
       "  </tbody>\n",
       "</table>\n",
       "</div>"
      ],
      "text/plain": [
       "     names\n",
       "A     ayus\n",
       "B  avinash\n",
       "C    akash\n",
       "D     Anvi"
      ]
     },
     "execution_count": 65,
     "metadata": {},
     "output_type": "execute_result"
    }
   ],
   "source": [
    "df.drop(['age','city'],axis=1,inplace=True)\n",
    "df"
   ]
  },
  {
   "cell_type": "code",
   "execution_count": 66,
   "id": "0d80cdec-8b6b-46cc-9f6b-26a547ee2d48",
   "metadata": {},
   "outputs": [
    {
     "data": {
      "text/html": [
       "<div>\n",
       "<style scoped>\n",
       "    .dataframe tbody tr th:only-of-type {\n",
       "        vertical-align: middle;\n",
       "    }\n",
       "\n",
       "    .dataframe tbody tr th {\n",
       "        vertical-align: top;\n",
       "    }\n",
       "\n",
       "    .dataframe thead th {\n",
       "        text-align: right;\n",
       "    }\n",
       "</style>\n",
       "<table border=\"1\" class=\"dataframe\">\n",
       "  <thead>\n",
       "    <tr style=\"text-align: right;\">\n",
       "      <th></th>\n",
       "      <th>names</th>\n",
       "      <th>age</th>\n",
       "      <th>city</th>\n",
       "    </tr>\n",
       "  </thead>\n",
       "  <tbody>\n",
       "    <tr>\n",
       "      <th>A</th>\n",
       "      <td>ayus</td>\n",
       "      <td>20</td>\n",
       "      <td>hyd</td>\n",
       "    </tr>\n",
       "    <tr>\n",
       "      <th>B</th>\n",
       "      <td>avinash</td>\n",
       "      <td>25</td>\n",
       "      <td>blr</td>\n",
       "    </tr>\n",
       "    <tr>\n",
       "      <th>C</th>\n",
       "      <td>akash</td>\n",
       "      <td>30</td>\n",
       "      <td>chennai</td>\n",
       "    </tr>\n",
       "    <tr>\n",
       "      <th>D</th>\n",
       "      <td>Anvi</td>\n",
       "      <td>35</td>\n",
       "      <td>Mumbai</td>\n",
       "    </tr>\n",
       "  </tbody>\n",
       "</table>\n",
       "</div>"
      ],
      "text/plain": [
       "     names  age     city\n",
       "A     ayus   20      hyd\n",
       "B  avinash   25      blr\n",
       "C    akash   30  chennai\n",
       "D     Anvi   35   Mumbai"
      ]
     },
     "execution_count": 66,
     "metadata": {},
     "output_type": "execute_result"
    }
   ],
   "source": [
    "names=['ayus','avinash','akash','Anvi']\n",
    "age=[20,25,30,35]\n",
    "city=['hyd','blr','chennai','Mumbai']\n",
    "data=zip(names,age,city)\n",
    "cols=['names','age','city']\n",
    "idx=['A','B','C','D']\n",
    "df=pd.DataFrame(data,index=idx,columns=cols)\n",
    "df"
   ]
  },
  {
   "cell_type": "code",
   "execution_count": 67,
   "id": "ee046838-eb07-4eb2-af03-ef5b67b92275",
   "metadata": {},
   "outputs": [
    {
     "data": {
      "text/html": [
       "<div>\n",
       "<style scoped>\n",
       "    .dataframe tbody tr th:only-of-type {\n",
       "        vertical-align: middle;\n",
       "    }\n",
       "\n",
       "    .dataframe tbody tr th {\n",
       "        vertical-align: top;\n",
       "    }\n",
       "\n",
       "    .dataframe thead th {\n",
       "        text-align: right;\n",
       "    }\n",
       "</style>\n",
       "<table border=\"1\" class=\"dataframe\">\n",
       "  <thead>\n",
       "    <tr style=\"text-align: right;\">\n",
       "      <th></th>\n",
       "      <th>names</th>\n",
       "      <th>age</th>\n",
       "      <th>city</th>\n",
       "    </tr>\n",
       "  </thead>\n",
       "  <tbody>\n",
       "    <tr>\n",
       "      <th>B</th>\n",
       "      <td>avinash</td>\n",
       "      <td>25</td>\n",
       "      <td>blr</td>\n",
       "    </tr>\n",
       "    <tr>\n",
       "      <th>C</th>\n",
       "      <td>akash</td>\n",
       "      <td>30</td>\n",
       "      <td>chennai</td>\n",
       "    </tr>\n",
       "    <tr>\n",
       "      <th>D</th>\n",
       "      <td>Anvi</td>\n",
       "      <td>35</td>\n",
       "      <td>Mumbai</td>\n",
       "    </tr>\n",
       "  </tbody>\n",
       "</table>\n",
       "</div>"
      ],
      "text/plain": [
       "     names  age     city\n",
       "B  avinash   25      blr\n",
       "C    akash   30  chennai\n",
       "D     Anvi   35   Mumbai"
      ]
     },
     "execution_count": 67,
     "metadata": {},
     "output_type": "execute_result"
    }
   ],
   "source": [
    "df.drop('A',axis=0,inplace=True)\n",
    "df"
   ]
  },
  {
   "cell_type": "markdown",
   "id": "6690df1e-ba15-4e83-9459-0054e5240a2e",
   "metadata": {},
   "source": [
    "$Step-11$\n",
    "\n",
    "**how to save the data frame**\n",
    "\n",
    "- Generally data frames are two types \n",
    "\n",
    "- csv(comma seperated value)\n",
    "\n",
    "- excel    "
   ]
  },
  {
   "cell_type": "code",
   "execution_count": 70,
   "id": "8f6f9c39-5dc1-492d-ab82-b27bb169430b",
   "metadata": {},
   "outputs": [],
   "source": [
    "# file name=data\n",
    "# extension=.csv\n",
    "df.to_csv('data')\n",
    "df.to_csv('data1.csv',index=False)"
   ]
  },
  {
   "cell_type": "code",
   "execution_count": 71,
   "id": "cbec46fd-69cc-4f26-b425-e9b75f5ea1c9",
   "metadata": {},
   "outputs": [],
   "source": [
    "df.to_excel('data2.xlsx')"
   ]
  },
  {
   "cell_type": "code",
   "execution_count": null,
   "id": "bbdaa23e-4b1d-4a95-a016-819ce2ed600d",
   "metadata": {},
   "outputs": [],
   "source": []
  },
  {
   "cell_type": "code",
   "execution_count": null,
   "id": "47c0da87-b5f4-4ef7-8147-29998c9e959e",
   "metadata": {},
   "outputs": [],
   "source": []
  }
 ],
 "metadata": {
  "kernelspec": {
   "display_name": "Python 3 (ipykernel)",
   "language": "python",
   "name": "python3"
  },
  "language_info": {
   "codemirror_mode": {
    "name": "ipython",
    "version": 3
   },
   "file_extension": ".py",
   "mimetype": "text/x-python",
   "name": "python",
   "nbconvert_exporter": "python",
   "pygments_lexer": "ipython3",
   "version": "3.11.7"
  }
 },
 "nbformat": 4,
 "nbformat_minor": 5
}
